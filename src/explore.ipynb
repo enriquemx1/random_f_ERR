{
    "cells": [
        {
            "cell_type": "markdown",
            "metadata": {},
            "source": [
                "# Explore here"
            ]
        },
        {
            "cell_type": "code",
            "execution_count": 2,
            "metadata": {},
            "outputs": [
                {
                    "name": "stdout",
                    "output_type": "stream",
                    "text": [
                        "✅ Datos cargados y almacenados en './data/raw'\n"
                    ]
                }
            ],
            "source": [
                "# Your code here\n",
                "import pandas as pd\n",
                "\n",
                "# URL del dataset\n",
                "url = \"https://raw.githubusercontent.com/4GeeksAcademy/data-preprocessing-project-tutorial/main/AB_NYC_2019.csv\"\n",
                "\n",
                "# Cargar datos\n",
                "df = pd.read_csv(url)\n",
                "\n",
                "# Crear carpeta y guardar el archivo\n",
                "import os\n",
                "raw_data_path = \"./data/raw\"\n",
                "os.makedirs(raw_data_path, exist_ok=True)\n",
                "df.to_csv(f\"{raw_data_path}/AB_NYC_2019.csv\", index=False)\n",
                "\n",
                "print(\"✅ Datos cargados y almacenados en './data/raw'\")"
            ]
        },
        {
            "cell_type": "markdown",
            "metadata": {},
            "source": [
                "EDA"
            ]
        },
        {
            "cell_type": "code",
            "execution_count": 5,
            "metadata": {},
            "outputs": [
                {
                    "name": "stdout",
                    "output_type": "stream",
                    "text": [
                        "✅ Información general:\n",
                        "<class 'pandas.core.frame.DataFrame'>\n",
                        "RangeIndex: 48895 entries, 0 to 48894\n",
                        "Data columns (total 16 columns):\n",
                        " #   Column                          Non-Null Count  Dtype  \n",
                        "---  ------                          --------------  -----  \n",
                        " 0   id                              48895 non-null  int64  \n",
                        " 1   name                            48879 non-null  object \n",
                        " 2   host_id                         48895 non-null  int64  \n",
                        " 3   host_name                       48874 non-null  object \n",
                        " 4   neighbourhood_group             48895 non-null  object \n",
                        " 5   neighbourhood                   48895 non-null  object \n",
                        " 6   latitude                        48895 non-null  float64\n",
                        " 7   longitude                       48895 non-null  float64\n",
                        " 8   room_type                       48895 non-null  object \n",
                        " 9   price                           48895 non-null  int64  \n",
                        " 10  minimum_nights                  48895 non-null  int64  \n",
                        " 11  number_of_reviews               48895 non-null  int64  \n",
                        " 12  last_review                     38843 non-null  object \n",
                        " 13  reviews_per_month               38843 non-null  float64\n",
                        " 14  calculated_host_listings_count  48895 non-null  int64  \n",
                        " 15  availability_365                48895 non-null  int64  \n",
                        "dtypes: float64(3), int64(7), object(6)\n",
                        "memory usage: 6.0+ MB\n",
                        "None\n",
                        "\n",
                        "✅ Estadísticas descriptivas:\n",
                        "                 id       host_id      latitude     longitude         price  \\\n",
                        "count  4.889500e+04  4.889500e+04  48895.000000  48895.000000  48895.000000   \n",
                        "mean   1.901714e+07  6.762001e+07     40.728949    -73.952170    152.720687   \n",
                        "std    1.098311e+07  7.861097e+07      0.054530      0.046157    240.154170   \n",
                        "min    2.539000e+03  2.438000e+03     40.499790    -74.244420      0.000000   \n",
                        "25%    9.471945e+06  7.822033e+06     40.690100    -73.983070     69.000000   \n",
                        "50%    1.967728e+07  3.079382e+07     40.723070    -73.955680    106.000000   \n",
                        "75%    2.915218e+07  1.074344e+08     40.763115    -73.936275    175.000000   \n",
                        "max    3.648724e+07  2.743213e+08     40.913060    -73.712990  10000.000000   \n",
                        "\n",
                        "       minimum_nights  number_of_reviews  reviews_per_month  \\\n",
                        "count    48895.000000       48895.000000       38843.000000   \n",
                        "mean         7.029962          23.274466           1.373221   \n",
                        "std         20.510550          44.550582           1.680442   \n",
                        "min          1.000000           0.000000           0.010000   \n",
                        "25%          1.000000           1.000000           0.190000   \n",
                        "50%          3.000000           5.000000           0.720000   \n",
                        "75%          5.000000          24.000000           2.020000   \n",
                        "max       1250.000000         629.000000          58.500000   \n",
                        "\n",
                        "       calculated_host_listings_count  availability_365  \n",
                        "count                    48895.000000      48895.000000  \n",
                        "mean                         7.143982        112.781327  \n",
                        "std                         32.952519        131.622289  \n",
                        "min                          1.000000          0.000000  \n",
                        "25%                          1.000000          0.000000  \n",
                        "50%                          1.000000         45.000000  \n",
                        "75%                          2.000000        227.000000  \n",
                        "max                        327.000000        365.000000  \n",
                        "\n",
                        "✅ Primeras filas:\n",
                        "     id                                              name  host_id  \\\n",
                        "0  2539                Clean & quiet apt home by the park     2787   \n",
                        "1  2595                             Skylit Midtown Castle     2845   \n",
                        "2  3647               THE VILLAGE OF HARLEM....NEW YORK !     4632   \n",
                        "3  3831                   Cozy Entire Floor of Brownstone     4869   \n",
                        "4  5022  Entire Apt: Spacious Studio/Loft by central park     7192   \n",
                        "\n",
                        "     host_name neighbourhood_group neighbourhood  latitude  longitude  \\\n",
                        "0         John            Brooklyn    Kensington  40.64749  -73.97237   \n",
                        "1     Jennifer           Manhattan       Midtown  40.75362  -73.98377   \n",
                        "2    Elisabeth           Manhattan        Harlem  40.80902  -73.94190   \n",
                        "3  LisaRoxanne            Brooklyn  Clinton Hill  40.68514  -73.95976   \n",
                        "4        Laura           Manhattan   East Harlem  40.79851  -73.94399   \n",
                        "\n",
                        "         room_type  price  minimum_nights  number_of_reviews last_review  \\\n",
                        "0     Private room    149               1                  9  2018-10-19   \n",
                        "1  Entire home/apt    225               1                 45  2019-05-21   \n",
                        "2     Private room    150               3                  0         NaN   \n",
                        "3  Entire home/apt     89               1                270  2019-07-05   \n",
                        "4  Entire home/apt     80              10                  9  2018-11-19   \n",
                        "\n",
                        "   reviews_per_month  calculated_host_listings_count  availability_365  \n",
                        "0               0.21                               6               365  \n",
                        "1               0.38                               2               355  \n",
                        "2                NaN                               1               365  \n",
                        "3               4.64                               1               194  \n",
                        "4               0.10                               1                 0  \n",
                        "\n",
                        "✅ Valores nulos por columna:\n",
                        "id                                    0\n",
                        "name                                 16\n",
                        "host_id                               0\n",
                        "host_name                            21\n",
                        "neighbourhood_group                   0\n",
                        "neighbourhood                         0\n",
                        "latitude                              0\n",
                        "longitude                             0\n",
                        "room_type                             0\n",
                        "price                                 0\n",
                        "minimum_nights                        0\n",
                        "number_of_reviews                     0\n",
                        "last_review                       10052\n",
                        "reviews_per_month                 10052\n",
                        "calculated_host_listings_count        0\n",
                        "availability_365                      0\n",
                        "dtype: int64\n"
                    ]
                }
            ],
            "source": [
                " \n",
                "print(\"✅ Información general:\")\n",
                "print(df.info())\n",
                "\n",
                "print(\"\\n✅ Estadísticas descriptivas:\")\n",
                "print(df.describe())\n",
                "\n",
                "print(\"\\n✅ Primeras filas:\")\n",
                "print(df.head())\n",
                "\n",
                "print(\"\\n✅ Valores nulos por columna:\")\n",
                "print(df.isnull().sum())"
            ]
        },
        {
            "cell_type": "code",
            "execution_count": 6,
            "metadata": {},
            "outputs": [
                {
                    "data": {
                        "image/png": "[encoded data removed]",
                        "text/plain": [
                            "<Figure size 1000x500 with 1 Axes>"
                        ]
                    },
                    "metadata": {},
                    "output_type": "display_data"
                }
            ],
            "source": [
                "import matplotlib.pyplot as plt\n",
                "import seaborn as sns\n",
                "\n",
                "# Distribución de precios\n",
                "plt.figure(figsize=(10,5))\n",
                "sns.histplot(df['price'], bins=50, kde=True)\n",
                "plt.title(\"Distribución de Precios en Airbnb NYC\")\n",
                "plt.show()"
            ]
        },
        {
            "cell_type": "code",
            "execution_count": 7,
            "metadata": {},
            "outputs": [
                {
                    "name": "stdout",
                    "output_type": "stream",
                    "text": [
                        "✅ Variables seleccionadas:\n",
                        "  neighbourhood_group neighbourhood        room_type  price  minimum_nights  \\\n",
                        "0            Brooklyn    Kensington     Private room    149               1   \n",
                        "1           Manhattan       Midtown  Entire home/apt    225               1   \n",
                        "2           Manhattan        Harlem     Private room    150               3   \n",
                        "3            Brooklyn  Clinton Hill  Entire home/apt     89               1   \n",
                        "4           Manhattan   East Harlem  Entire home/apt     80              10   \n",
                        "\n",
                        "   number_of_reviews  \n",
                        "0                  9  \n",
                        "1                 45  \n",
                        "2                  0  \n",
                        "3                270  \n",
                        "4                  9  \n"
                    ]
                }
            ],
            "source": [
                " \n",
                "columns_to_keep = ['neighbourhood_group', 'neighbourhood', 'room_type', 'price', 'minimum_nights', 'number_of_reviews']\n",
                "df_filtered = df[columns_to_keep]\n",
                "\n",
                "print(\"✅ Variables seleccionadas:\")\n",
                "print(df_filtered.head())"
            ]
        },
        {
            "cell_type": "code",
            "execution_count": 9,
            "metadata": {},
            "outputs": [],
            "source": [
                "from sklearn.model_selection import train_test_split\n",
                "\n",
                "train, test = train_test_split(df_filtered, test_size=0.2, random_state=42)\n"
            ]
        },
        {
            "cell_type": "code",
            "execution_count": 12,
            "metadata": {},
            "outputs": [],
            "source": [
                "processed_data_path = \"/workspaces/machine-learning-python-template/data/processed\"\n",
                "os.makedirs(processed_data_path, exist_ok=True)\n",
                "\n",
                "train.to_csv(f\"{processed_data_path}/train.csv\", index=False)\n",
                "test.to_csv(f\"{processed_data_path}/test.csv\", index=False)\n",
                "\n"
            ]
        }
    ],
    "metadata": {
        "kernelspec": {
            "display_name": "Python 3",
            "language": "python",
            "name": "python3"
        },
        "language_info": {
            "codemirror_mode": {
                "name": "ipython",
                "version": 3
            },
            "file_extension": ".py",
            "mimetype": "text/x-python",
            "name": "python",
            "nbconvert_exporter": "python",
            "pygments_lexer": "ipython3",
            "version": "3.11.4"
        },
        "orig_nbformat": 4
    },
    "nbformat": 4,
    "nbformat_minor": 2
}
